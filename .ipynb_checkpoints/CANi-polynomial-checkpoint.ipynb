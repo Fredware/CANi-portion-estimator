{
 "cells": [
  {
   "cell_type": "markdown",
   "metadata": {},
   "source": [
    "# CANi &reg; Daily Portion Calculator"
   ]
  },
  {
   "cell_type": "code",
   "execution_count": null,
   "metadata": {},
   "outputs": [],
   "source": [
    "import matplotlib.pyplot as plt\n",
    "import numpy as np\n",
    "import pandas as pd\n",
    "import plotly.express as px\n",
    "import plotly.graph_objects as go\n",
    "\n",
    "from numpy.polynomial import Polynomial"
   ]
  },
  {
   "cell_type": "markdown",
   "metadata": {},
   "source": [
    "## Global Variables"
   ]
  },
  {
   "cell_type": "code",
   "execution_count": null,
   "metadata": {},
   "outputs": [],
   "source": [
    "# Resolution for displaying and saving the figures generated in this script.\n",
    "img_res = {'w_px':540,'h_px':675}\n",
    "\n",
    "# Values from the recommended daily consumption table on the back of the food bag.\n",
    "dog_weight_rec = np.asarray([1.0, 2.5, 5.0, 8.0, 10.0]) # kilograms\n",
    "portion_size_rec = np.asarray([50.0, 80.0, 120.0, 140.0, 150.0]) #grams\n",
    "\n",
    "# Weight and names of the dogs to be fed\n",
    "dog_weight_list = np.asarray([1.25, 3.0, 5.5, 7.0]) # kilograms\n",
    "dog_name_list = np.asarray([\"Lala\", \"Muñeca\", \"Cookie\", \"Leo\"])\n",
    "\n",
    "# Portion sizes of the available measuring cups\n",
    "pink_cup = 26 # grams\n",
    "orange_cup = 49 #grams"
   ]
  },
  {
   "cell_type": "markdown",
   "metadata": {},
   "source": [
    "## Recommended Portion Sizes"
   ]
  },
  {
   "cell_type": "code",
   "execution_count": null,
   "metadata": {},
   "outputs": [],
   "source": [
    "df_rec = pd.DataFrame({'weight': dog_weight_rec, 'p_size':portion_size_rec})\n",
    "df_rec.head()"
   ]
  },
  {
   "cell_type": "code",
   "execution_count": null,
   "metadata": {},
   "outputs": [],
   "source": [
    "fig_1 = px.scatter(df_rec, 'weight', 'p_size', \n",
    "                   labels = {'weight':\"Dog's Weight [kg]\", 'p_size':'Daily Portion Size [g]'},\n",
    "                   title = 'Recommended Portions',\n",
    "                   width = img_res['w_px'], \n",
    "                   height = img_res['h_px'], \n",
    "                   render_mode='svg')\n",
    "fig_1.show()"
   ]
  },
  {
   "cell_type": "markdown",
   "metadata": {},
   "source": [
    "## Estimated Portion Sizes"
   ]
  },
  {
   "cell_type": "code",
   "execution_count": null,
   "metadata": {},
   "outputs": [],
   "source": [
    "poly_est = Polynomial.fit(dog_weight_rec, portion_size_rec, deg=4)\n",
    "print(f\"{poly_est.convert():unicode}\")"
   ]
  },
  {
   "cell_type": "code",
   "execution_count": null,
   "metadata": {},
   "outputs": [],
   "source": [
    "x = np.arange(1, 10.5, 0.25)\n",
    "df_est = pd.DataFrame({'weight':x, 'p_size':poly_est(x)})\n",
    "\n",
    "fig_2 = px.line(df_est, 'weight', 'p_size', \n",
    "                   labels = {'weight':\"Dog's Weight [kg]\", 'p_size':'Daily Portion Size [g]'},\n",
    "                   title = f'Polynomial Fit', \n",
    "                   width = img_res['w_px'], \n",
    "                   height = img_res['h_px'], \n",
    "                   render_mode='svg')\n",
    "fig_2.show()"
   ]
  },
  {
   "cell_type": "code",
   "execution_count": null,
   "metadata": {
    "scrolled": true
   },
   "outputs": [],
   "source": [
    "df_est = pd.DataFrame({'weight':dog_weight_list, 'p_size':poly_est(dog_weight_list), 'names':dog_name_list})\n",
    "\n",
    "fig_3 = px.scatter(df_est, 'weight', 'p_size', \n",
    "                   labels = {'weight':\"Dog's Weight [kg]\", 'p_size':'Daily Portion Size [g]', 'names':'Name'},\n",
    "                   color='names',\n",
    "                   color_discrete_sequence=['#EF553B', '#00CC96', '#FFA15A', '#19D3F3', '#FF6692', '#B6E880', '#FF97FF', '#FECB52', '#636EFA', '#AB63FA'],\n",
    "                   width = img_res['w_px'], \n",
    "                   height = img_res['h_px'], \n",
    "                   render_mode='svg')\n",
    "                  \n",
    "fig_4 = go.Figure(data = fig_2.data + fig_3.data,\n",
    "                  layout = go.Layout({'width':img_res['w_px'], \n",
    "                                      'height':img_res['h_px'], \n",
    "                                      'title':go.layout.Title(text=\"Proposed Portion Sizes for Our Pets\"), \n",
    "                                      'xaxis':go.layout.XAxis(title={'text':\"Dog's Weight [kg]\"},tick0=1, dtick=0.5), \n",
    "                                      'yaxis':go.layout.YAxis(title={'text':'Daily Portion Size [g]'}, tick0=50, dtick=5)})\n",
    "                 )\n",
    "fig_4.show()"
   ]
  },
  {
   "cell_type": "markdown",
   "metadata": {},
   "source": [
    "## Adjusted Portion Sizes"
   ]
  },
  {
   "cell_type": "code",
   "execution_count": null,
   "metadata": {},
   "outputs": [],
   "source": [
    "poly_adj = poly_est - 14\n",
    "\n",
    "x = np.arange(1, 10.5, 0.25)\n",
    "df_poly = pd.DataFrame({'weight':x, 'p_size':poly_adj(x)})\n",
    "\n",
    "fig_5 = px.line(df_poly, 'weight', 'p_size', \n",
    "                   labels = {'weight':\"Dog's Weight [kg]\", 'p_size':'Daily Portion Size [g]'},\n",
    "                   title = f'Polynomial Fit', \n",
    "                   width = img_res['w_px'], \n",
    "                   height = img_res['h_px'], \n",
    "                   render_mode='svg')\n",
    "\n",
    "df_adj = pd.DataFrame({'weight':dog_weight_list, 'p_size':poly_adj(dog_weight_list), 'names':dog_name_list})\n",
    "\n",
    "fig_6 = px.scatter(df_adj, 'weight', 'p_size', \n",
    "                   labels = {'weight':\"Dog's Weight [kg]\", 'p_size':'Daily Portion Size [g]', 'names':'Name'},\n",
    "                   color='names',\n",
    "                   color_discrete_sequence=['#EF553B', '#00CC96', '#FFA15A', '#19D3F3', '#FF6692', '#B6E880', '#FF97FF', '#FECB52', '#636EFA', '#AB63FA'],\n",
    "                   width = img_res['w_px'], \n",
    "                   height = img_res['h_px'], \n",
    "                   render_mode='svg')\n",
    "\n",
    "\n",
    "fig_7 = go.Figure(data = fig_4.data + fig_5.data + fig_6.data,\n",
    "                  layout = go.Layout({'width':img_res['w_px'], \n",
    "                                      'height':img_res['h_px'], \n",
    "                                      'title':go.layout.Title(text=\"Proposed Portion Sizes for Our Pets\"), \n",
    "                                      'xaxis':go.layout.XAxis(title={'text':\"Dog's Weight [kg]\"},tick0=1, dtick=0.5), \n",
    "                                      'yaxis':go.layout.YAxis(title={'text':'Daily Portion Size [g]'}, tick0=50, dtick=5)})\n",
    "                 )\n",
    "\n",
    "fig_7.show()"
   ]
  },
  {
   "cell_type": "code",
   "execution_count": null,
   "metadata": {},
   "outputs": [],
   "source": [
    "with np.printoptions(precision=2):\n",
    "    print(f\"The daily portion size for a dog of size {dog_weight_list} kg is {poly_adj(dog_weight_list)} g.\")\n",
    "    print(f\"The 2-meal portion size is therefore {poly_adj(dog_weight_list)/2} g.\")"
   ]
  },
  {
   "cell_type": "code",
   "execution_count": null,
   "metadata": {},
   "outputs": [],
   "source": [
    "df_pet = pd.DataFrame({'name':dog_name_list,\n",
    "                       'weight':dog_weight_list, \n",
    "                       'daily_portion':poly_adj(dog_weight_list),\n",
    "                       'meal_portion (x2)':poly_adj(dog_weight_list)/2,\n",
    "                       'pink_portion (x2)':poly_adj(dog_weight_list)*0.5/pink_cup,\n",
    "                       'orange_portion (x2)':poly_adj(dog_weight_list)*0.5/orange_cup\n",
    "                      })\n",
    "\n",
    "df_pet"
   ]
  },
  {
   "cell_type": "code",
   "execution_count": null,
   "metadata": {},
   "outputs": [],
   "source": []
  }
 ],
 "metadata": {
  "kernelspec": {
   "display_name": "Python 3 (ipykernel)",
   "language": "python",
   "name": "python3"
  },
  "language_info": {
   "codemirror_mode": {
    "name": "ipython",
    "version": 3
   },
   "file_extension": ".py",
   "mimetype": "text/x-python",
   "name": "python",
   "nbconvert_exporter": "python",
   "pygments_lexer": "ipython3",
   "version": "3.8.6"
  }
 },
 "nbformat": 4,
 "nbformat_minor": 4
}
