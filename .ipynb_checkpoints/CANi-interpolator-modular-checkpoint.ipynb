{
 "cells": [
  {
   "cell_type": "code",
   "execution_count": 1,
   "id": "9396e9f0",
   "metadata": {},
   "outputs": [],
   "source": [
    "import ipywidgets as ipw\n",
    "\n",
    "import matplotlib.pyplot as plt\n",
    "import numpy as np\n",
    "import pandas as pd\n",
    "import plotly.express as px\n",
    "import plotly.graph_objects as go\n",
    "\n",
    "from numpy.polynomial import Polynomial\n",
    "from plotly.subplots import make_subplots\n",
    "from scipy.interpolate import interp1d"
   ]
  },
  {
   "cell_type": "code",
   "execution_count": 2,
   "id": "94450a0b",
   "metadata": {},
   "outputs": [],
   "source": [
    "class ChartData:\n",
    "    def __init__(self, weights, portions):\n",
    "        self.weights = weights\n",
    "        self.portions = portions"
   ]
  },
  {
   "cell_type": "code",
   "execution_count": 3,
   "id": "53e6b046",
   "metadata": {},
   "outputs": [],
   "source": [
    "class PetData:\n",
    "    def __init__(self, names, weights):\n",
    "        self.names = names\n",
    "        self.weights = weights"
   ]
  },
  {
   "cell_type": "code",
   "execution_count": 4,
   "id": "b639e601",
   "metadata": {},
   "outputs": [],
   "source": [
    "def make_chart(rec_vals, pet_list, offset=0, img_res={'w_px':540,'h_px':675}):\n",
    "    \n",
    "    rec_portions = rec_vals.portions - offset\n",
    "\n",
    "    df_rec = pd.DataFrame({'weight': rec_vals.weights, 'p_size':rec_portions})\n",
    "    \n",
    "    interpolator = interp1d(rec_vals.weights, rec_portions, kind='cubic')\n",
    "\n",
    "    x_est = np.linspace(1, 10, num=50, endpoint=True)\n",
    "    df_inter = pd.DataFrame({'weight':x_est, 'p_size':interpolator(x_est)})\n",
    "    df_est = pd.DataFrame({'weight':pet_list.weights, 'p_size':interpolator(pet_list.weights), 'names':pet_list.names})\n",
    "\n",
    "    fig = px.scatter( df_est, x='weight', y='p_size', symbol='names')\n",
    "    fig.update_traces( marker = dict( size=7.5, line_width=1, color='RoyalBlue'))\n",
    "\n",
    "    fig.add_trace( go.Scatter( x=df_inter.weight, y=df_inter.p_size, mode='lines', name='Cubic Spline', opacity=0.45, showlegend=False))\n",
    "    fig.add_trace( go.Scatter( x=df_rec.weight, y=df_rec.p_size, mode='markers', name='Referencias'))\n",
    "\n",
    "    fig.update_layout( title_text='Porción Diaria Según el Peso',\n",
    "                       title_font_size = 30,\n",
    "                       template='seaborn',\n",
    "                       width=img_res['w_px'],\n",
    "                       height=img_res['h_px'],\n",
    "                       legend_title_text='Leyenda',\n",
    "                       legend_yanchor='bottom',\n",
    "                       legend_y=0.01,\n",
    "                       legend_xanchor='right',\n",
    "                       legend_x=0.99)\n",
    "\n",
    "    fig.update_xaxes( title_text=\"Peso [kg]\", title_font_size=20, dtick=0.5)\n",
    "    fig.update_yaxes( title_text=\"Porción Diaria [g]\", title_font_size = 20, dtick=5)\n",
    "\n",
    "    return fig, interpolator"
   ]
  },
  {
   "cell_type": "code",
   "execution_count": 5,
   "id": "6991dee0",
   "metadata": {},
   "outputs": [],
   "source": [
    "def make_table(pet_list, interpolator, n_meals = 2):\n",
    "\n",
    "    pred_portions = interpolator(pet_list.weights)\n",
    "    \n",
    "    df_pred = pd.DataFrame({'Nombre':pet_list.names,\n",
    "                       'Peso [kg]':pet_list.weights, \n",
    "                       'Porción Diaria [g]':pred_portions,\n",
    "                       f'Porción por Comida [g] (x{n_meals})':pred_portions/n_meals,\n",
    "                       f'Palas Rosa por Comida (x{n_meals})':pred_portions/pink_cup/n_meals,\n",
    "                       f'Palas Naranja por Comida (x{n_meals})':pred_portions/orange_cup/n_meals\n",
    "                      })\n",
    "\n",
    "    df_pred.style.format(precision=2)\n",
    "    return df_pred"
   ]
  },
  {
   "cell_type": "code",
   "execution_count": 6,
   "id": "c1698fd1",
   "metadata": {},
   "outputs": [],
   "source": [
    "# Portion sizes of the available measuring cups\n",
    "pink_cup = 26 # grams\n",
    "orange_cup = 49 #grams\n",
    "\n",
    "# Values from the recommended daily consumption table on the back of the food bag.\n",
    "rec_weight = np.asarray([1.0, 2.5, 5.0, 8.0, 10.0]) # kilograms\n",
    "rec_portion = np.asarray([50.0, 80.0, 120.0, 140.0, 150.0]) #grams\n",
    "rec_vals = ChartData(rec_weight, rec_portion)\n",
    "\n",
    "# Weight and names of the dogs to be fed\n",
    "pet_weights = np.asarray([1.8, 3.0, 5.5, 6.5]) # kilograms\n",
    "pet_names = np.asarray([\"Lala\", \"Muñeca\", \"Cookie\", \"Leo\"])\n",
    "pet_list = PetData(pet_names, pet_weights)"
   ]
  },
  {
   "cell_type": "code",
   "execution_count": 7,
   "id": "5871277b",
   "metadata": {},
   "outputs": [
    {
     "data": {
      "application/vnd.jupyter.widget-view+json": {
       "model_id": "e158ec7dc7dd492e9f1f9dfc24d5fd04",
       "version_major": 2,
       "version_minor": 0
      },
      "text/plain": [
       "HBox(children=(FigureWidget({\n",
       "    'data': [{'hovertemplate': 'names=Lala<br>weight=%{x}<br>p_size=%{y}<extra><…"
      ]
     },
     "metadata": {},
     "output_type": "display_data"
    }
   ],
   "source": [
    "rec_fig, rec_interp = make_chart(rec_vals, pet_list)\n",
    "adj_fig, adj_interp = make_chart(rec_vals, pet_list, offset=14)\n",
    "adj_fig.update_layout(title_text='Porción Ajustada Según el Peso')\n",
    "\n",
    "fig1 = go.FigureWidget(rec_fig)\n",
    "fig2 = go.FigureWidget(adj_fig)\n",
    "ipw.HBox([fig1, fig2])"
   ]
  },
  {
   "cell_type": "code",
   "execution_count": 8,
   "id": "cc8a5359",
   "metadata": {},
   "outputs": [
    {
     "data": {
      "text/html": [
       "<style type=\"text/css\">\n",
       "</style>\n",
       "<table id=\"T_aedcc\">\n",
       "  <caption>Porciones Sugeridas</caption>\n",
       "  <thead>\n",
       "    <tr>\n",
       "      <th class=\"blank level0\" >&nbsp;</th>\n",
       "      <th id=\"T_aedcc_level0_col0\" class=\"col_heading level0 col0\" >Nombre</th>\n",
       "      <th id=\"T_aedcc_level0_col1\" class=\"col_heading level0 col1\" >Peso [kg]</th>\n",
       "      <th id=\"T_aedcc_level0_col2\" class=\"col_heading level0 col2\" >Porción Diaria [g]</th>\n",
       "      <th id=\"T_aedcc_level0_col3\" class=\"col_heading level0 col3\" >Porción por Comida [g] (x2)</th>\n",
       "      <th id=\"T_aedcc_level0_col4\" class=\"col_heading level0 col4\" >Palas Rosa por Comida (x2)</th>\n",
       "      <th id=\"T_aedcc_level0_col5\" class=\"col_heading level0 col5\" >Palas Naranja por Comida (x2)</th>\n",
       "    </tr>\n",
       "  </thead>\n",
       "  <tbody>\n",
       "    <tr>\n",
       "      <th id=\"T_aedcc_level0_row0\" class=\"row_heading level0 row0\" >0</th>\n",
       "      <td id=\"T_aedcc_row0_col0\" class=\"data row0 col0\" >Lala</td>\n",
       "      <td id=\"T_aedcc_row0_col1\" class=\"data row0 col1\" >1.800000</td>\n",
       "      <td id=\"T_aedcc_row0_col2\" class=\"data row0 col2\" >66.189822</td>\n",
       "      <td id=\"T_aedcc_row0_col3\" class=\"data row0 col3\" >33.094911</td>\n",
       "      <td id=\"T_aedcc_row0_col4\" class=\"data row0 col4\" >1.272881</td>\n",
       "      <td id=\"T_aedcc_row0_col5\" class=\"data row0 col5\" >0.675406</td>\n",
       "    </tr>\n",
       "    <tr>\n",
       "      <th id=\"T_aedcc_level0_row1\" class=\"row_heading level0 row1\" >1</th>\n",
       "      <td id=\"T_aedcc_row1_col0\" class=\"data row1 col0\" >Muñeca</td>\n",
       "      <td id=\"T_aedcc_row1_col1\" class=\"data row1 col1\" >3.000000</td>\n",
       "      <td id=\"T_aedcc_row1_col2\" class=\"data row1 col2\" >89.413146</td>\n",
       "      <td id=\"T_aedcc_row1_col3\" class=\"data row1 col3\" >44.706573</td>\n",
       "      <td id=\"T_aedcc_row1_col4\" class=\"data row1 col4\" >1.719484</td>\n",
       "      <td id=\"T_aedcc_row1_col5\" class=\"data row1 col5\" >0.912379</td>\n",
       "    </tr>\n",
       "    <tr>\n",
       "      <th id=\"T_aedcc_level0_row2\" class=\"row_heading level0 row2\" >2</th>\n",
       "      <td id=\"T_aedcc_row2_col0\" class=\"data row2 col0\" >Cookie</td>\n",
       "      <td id=\"T_aedcc_row2_col1\" class=\"data row2 col1\" >5.500000</td>\n",
       "      <td id=\"T_aedcc_row2_col2\" class=\"data row2 col2\" >125.162852</td>\n",
       "      <td id=\"T_aedcc_row2_col3\" class=\"data row2 col3\" >62.581426</td>\n",
       "      <td id=\"T_aedcc_row2_col4\" class=\"data row2 col4\" >2.406978</td>\n",
       "      <td id=\"T_aedcc_row2_col5\" class=\"data row2 col5\" >1.277172</td>\n",
       "    </tr>\n",
       "    <tr>\n",
       "      <th id=\"T_aedcc_level0_row3\" class=\"row_heading level0 row3\" >3</th>\n",
       "      <td id=\"T_aedcc_row3_col0\" class=\"data row3 col0\" >Leo</td>\n",
       "      <td id=\"T_aedcc_row3_col1\" class=\"data row3 col1\" >6.500000</td>\n",
       "      <td id=\"T_aedcc_row3_col2\" class=\"data row3 col2\" >132.727993</td>\n",
       "      <td id=\"T_aedcc_row3_col3\" class=\"data row3 col3\" >66.363996</td>\n",
       "      <td id=\"T_aedcc_row3_col4\" class=\"data row3 col4\" >2.552461</td>\n",
       "      <td id=\"T_aedcc_row3_col5\" class=\"data row3 col5\" >1.354367</td>\n",
       "    </tr>\n",
       "  </tbody>\n",
       "</table>\n"
      ],
      "text/plain": [
       "<pandas.io.formats.style.Styler at 0x15669e5ddc0>"
      ]
     },
     "execution_count": 8,
     "metadata": {},
     "output_type": "execute_result"
    }
   ],
   "source": [
    "df_rec = make_table(pet_list, rec_interp)\n",
    "df_rec.style.set_caption('Porciones Sugeridas')"
   ]
  },
  {
   "cell_type": "code",
   "execution_count": 9,
   "id": "1ab8f037",
   "metadata": {},
   "outputs": [
    {
     "data": {
      "text/html": [
       "<style type=\"text/css\">\n",
       "</style>\n",
       "<table id=\"T_2ecfb\">\n",
       "  <caption>Porciones Ajustadas</caption>\n",
       "  <thead>\n",
       "    <tr>\n",
       "      <th class=\"blank level0\" >&nbsp;</th>\n",
       "      <th id=\"T_2ecfb_level0_col0\" class=\"col_heading level0 col0\" >Nombre</th>\n",
       "      <th id=\"T_2ecfb_level0_col1\" class=\"col_heading level0 col1\" >Peso [kg]</th>\n",
       "      <th id=\"T_2ecfb_level0_col2\" class=\"col_heading level0 col2\" >Porción Diaria [g]</th>\n",
       "      <th id=\"T_2ecfb_level0_col3\" class=\"col_heading level0 col3\" >Porción por Comida [g] (x2)</th>\n",
       "      <th id=\"T_2ecfb_level0_col4\" class=\"col_heading level0 col4\" >Palas Rosa por Comida (x2)</th>\n",
       "      <th id=\"T_2ecfb_level0_col5\" class=\"col_heading level0 col5\" >Palas Naranja por Comida (x2)</th>\n",
       "    </tr>\n",
       "  </thead>\n",
       "  <tbody>\n",
       "    <tr>\n",
       "      <th id=\"T_2ecfb_level0_row0\" class=\"row_heading level0 row0\" >0</th>\n",
       "      <td id=\"T_2ecfb_row0_col0\" class=\"data row0 col0\" >Lala</td>\n",
       "      <td id=\"T_2ecfb_row0_col1\" class=\"data row0 col1\" >1.800000</td>\n",
       "      <td id=\"T_2ecfb_row0_col2\" class=\"data row0 col2\" >52.189822</td>\n",
       "      <td id=\"T_2ecfb_row0_col3\" class=\"data row0 col3\" >26.094911</td>\n",
       "      <td id=\"T_2ecfb_row0_col4\" class=\"data row0 col4\" >1.003650</td>\n",
       "      <td id=\"T_2ecfb_row0_col5\" class=\"data row0 col5\" >0.532549</td>\n",
       "    </tr>\n",
       "    <tr>\n",
       "      <th id=\"T_2ecfb_level0_row1\" class=\"row_heading level0 row1\" >1</th>\n",
       "      <td id=\"T_2ecfb_row1_col0\" class=\"data row1 col0\" >Muñeca</td>\n",
       "      <td id=\"T_2ecfb_row1_col1\" class=\"data row1 col1\" >3.000000</td>\n",
       "      <td id=\"T_2ecfb_row1_col2\" class=\"data row1 col2\" >75.413146</td>\n",
       "      <td id=\"T_2ecfb_row1_col3\" class=\"data row1 col3\" >37.706573</td>\n",
       "      <td id=\"T_2ecfb_row1_col4\" class=\"data row1 col4\" >1.450253</td>\n",
       "      <td id=\"T_2ecfb_row1_col5\" class=\"data row1 col5\" >0.769522</td>\n",
       "    </tr>\n",
       "    <tr>\n",
       "      <th id=\"T_2ecfb_level0_row2\" class=\"row_heading level0 row2\" >2</th>\n",
       "      <td id=\"T_2ecfb_row2_col0\" class=\"data row2 col0\" >Cookie</td>\n",
       "      <td id=\"T_2ecfb_row2_col1\" class=\"data row2 col1\" >5.500000</td>\n",
       "      <td id=\"T_2ecfb_row2_col2\" class=\"data row2 col2\" >111.162852</td>\n",
       "      <td id=\"T_2ecfb_row2_col3\" class=\"data row2 col3\" >55.581426</td>\n",
       "      <td id=\"T_2ecfb_row2_col4\" class=\"data row2 col4\" >2.137747</td>\n",
       "      <td id=\"T_2ecfb_row2_col5\" class=\"data row2 col5\" >1.134315</td>\n",
       "    </tr>\n",
       "    <tr>\n",
       "      <th id=\"T_2ecfb_level0_row3\" class=\"row_heading level0 row3\" >3</th>\n",
       "      <td id=\"T_2ecfb_row3_col0\" class=\"data row3 col0\" >Leo</td>\n",
       "      <td id=\"T_2ecfb_row3_col1\" class=\"data row3 col1\" >6.500000</td>\n",
       "      <td id=\"T_2ecfb_row3_col2\" class=\"data row3 col2\" >118.727993</td>\n",
       "      <td id=\"T_2ecfb_row3_col3\" class=\"data row3 col3\" >59.363996</td>\n",
       "      <td id=\"T_2ecfb_row3_col4\" class=\"data row3 col4\" >2.283231</td>\n",
       "      <td id=\"T_2ecfb_row3_col5\" class=\"data row3 col5\" >1.211510</td>\n",
       "    </tr>\n",
       "  </tbody>\n",
       "</table>\n"
      ],
      "text/plain": [
       "<pandas.io.formats.style.Styler at 0x15669feb070>"
      ]
     },
     "execution_count": 9,
     "metadata": {},
     "output_type": "execute_result"
    }
   ],
   "source": [
    "df_adj = make_table(pet_list, adj_interp)\n",
    "df_adj.style.set_caption('Porciones Ajustadas')"
   ]
  }
 ],
 "metadata": {
  "kernelspec": {
   "display_name": "Python 3 (ipykernel)",
   "language": "python",
   "name": "python3"
  },
  "language_info": {
   "codemirror_mode": {
    "name": "ipython",
    "version": 3
   },
   "file_extension": ".py",
   "mimetype": "text/x-python",
   "name": "python",
   "nbconvert_exporter": "python",
   "pygments_lexer": "ipython3",
   "version": "3.8.6"
  }
 },
 "nbformat": 4,
 "nbformat_minor": 5
}
