{
 "cells": [
  {
   "cell_type": "code",
   "execution_count": 1,
   "id": "08f57afa-58a7-42a9-99aa-eba2eba6e49d",
   "metadata": {},
   "outputs": [],
   "source": [
    "import numpy as np"
   ]
  },
  {
   "cell_type": "markdown",
   "id": "9dd3a5a9-96e4-41e9-b6df-ce81add33545",
   "metadata": {},
   "source": [
    "# Durnin-Womersley Body Fat Formula for Men\n",
    "$$b_{fat}(\\%) = \\frac{495}{b_{density}}-450$$"
   ]
  },
  {
   "cell_type": "markdown",
   "id": "23ab540a-d186-4ff8-a064-2c445a160ed5",
   "metadata": {},
   "source": [
    "## Enter Skinfold Results"
   ]
  },
  {
   "cell_type": "code",
   "execution_count": 2,
   "id": "268c0db3-f380-454e-be3b-d29062ffcd78",
   "metadata": {},
   "outputs": [],
   "source": [
    "biceps = 24.5\n",
    "triceps = 35.15\n",
    "subescapular = 25\n",
    "suprailiac = 26"
   ]
  },
  {
   "cell_type": "markdown",
   "id": "ca1380dc-a05a-41d0-b3ef-8c2a6afc9b5a",
   "metadata": {},
   "source": [
    "## Choose Parameters\n",
    "Age | 16-19 | 20-29 | 30-39 | 40-49 | +50\n",
    "--- | --- | --- | --- | --- | ---\n",
    "c | 1.1620 | 1.1631 | 1.1422 | 1.1620 | 1.1715\n",
    "m | 0.0630 | 0.0632 | 0.0544 | 0.0700 | 0.0779"
   ]
  },
  {
   "cell_type": "code",
   "execution_count": 3,
   "id": "f47afaa3-20da-4577-8b70-cbca9b58616f",
   "metadata": {},
   "outputs": [],
   "source": [
    "c = 1.1631\n",
    "m = 0.0632"
   ]
  },
  {
   "cell_type": "markdown",
   "id": "b72ab97a-fe91-4852-bc4d-7ea4c2d4c563",
   "metadata": {},
   "source": [
    "## Calculate Body Density\n",
    "$$b_{density} = c - m * log(biceps + triceps + subescapular + suprailiac)$$"
   ]
  },
  {
   "cell_type": "code",
   "execution_count": 4,
   "id": "7d169ced-437f-496e-ba7c-8d970e4a17c5",
   "metadata": {},
   "outputs": [
    {
     "name": "stdout",
     "output_type": "stream",
     "text": [
      "1.034\n"
     ]
    }
   ],
   "source": [
    "b_dens = c - m * np.log10( biceps + triceps + subescapular + suprailiac)\n",
    "print(f'{b_dens:.3f}')"
   ]
  },
  {
   "cell_type": "markdown",
   "id": "abc837a7-8bea-49e4-84a2-1abae439b81c",
   "metadata": {},
   "source": [
    "## Calculate Body Fat"
   ]
  },
  {
   "cell_type": "code",
   "execution_count": 5,
   "id": "ab55d873-7caa-4580-aa5f-e9425bda8d09",
   "metadata": {},
   "outputs": [
    {
     "name": "stdout",
     "output_type": "stream",
     "text": [
      "The estimated body fat percentage is 28.76%\n"
     ]
    }
   ],
   "source": [
    "b_fat = (495/b_dens) - 450\n",
    "print(f'The estimated body fat percentage is {b_fat:.2f}%')"
   ]
  },
  {
   "cell_type": "markdown",
   "id": "16af5e75-3589-4295-be20-476c977c308e",
   "metadata": {},
   "source": [
    "## Calculate Approximation Error\n",
    "$$\\delta = \\left| \\frac{v_A - v_E}{v_E} \\right| \\cdot 100\\%$$\n",
    "- $\\delta$: percent error\n",
    "- $v_A$: actual value observed\n",
    "- $v_E$: expected value"
   ]
  },
  {
   "cell_type": "code",
   "execution_count": 8,
   "id": "fac922fb-6309-447b-aa92-3e79f48f0b15",
   "metadata": {},
   "outputs": [
    {
     "name": "stdout",
     "output_type": "stream",
     "text": [
      "The percent error of the sensor is 1.2%\n"
     ]
    }
   ],
   "source": [
    "v_a = 29.1\n",
    "v_e = b_fat\n",
    "delta = np.abs((v_a - v_e) / v_e) * 100\n",
    "print(f'The percent error of the sensor is {delta:.1f}%')"
   ]
  }
 ],
 "metadata": {
  "kernelspec": {
   "display_name": "Python 3 (ipykernel)",
   "language": "python",
   "name": "python3"
  },
  "language_info": {
   "codemirror_mode": {
    "name": "ipython",
    "version": 3
   },
   "file_extension": ".py",
   "mimetype": "text/x-python",
   "name": "python",
   "nbconvert_exporter": "python",
   "pygments_lexer": "ipython3",
   "version": "3.8.6"
  }
 },
 "nbformat": 4,
 "nbformat_minor": 5
}
